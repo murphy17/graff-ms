{
 "cells": [
  {
   "cell_type": "markdown",
   "id": "25b86ec5-7551-45ee-aa14-ac9c604f2493",
   "metadata": {},
   "source": [
    "# ChEMBL Preprocessing Notebook\n",
    "\n",
    "This samples structures from ChEMBL to construct an MS1 decoy library relative to NIST-20, and dumps files necessary to generate the spectra.\n",
    "\n",
    "This requires the NIST-20 preprocessing be run first."
   ]
  },
  {
   "cell_type": "code",
   "execution_count": 1,
   "id": "48fe8f1b-f6d1-46b1-a48b-68ddbe93784b",
   "metadata": {},
   "outputs": [],
   "source": [
    "import numpy as np\n",
    "import numpy.random as npr\n",
    "import pandas as pd\n",
    "from tqdm import tqdm\n",
    "\n",
    "from rdkit import Chem, RDLogger\n",
    "RDLogger.DisableLog('rdApp.*')\n",
    "\n",
    "from pandarallel import pandarallel\n",
    "from os import cpu_count\n",
    "pandarallel.initialize(progress_bar=False, verbose=0, nb_workers=cpu_count()//2)\n",
    "\n",
    "import sys\n",
    "sys.path.append('../..')"
   ]
  },
  {
   "cell_type": "code",
   "execution_count": 2,
   "id": "35f9281c-8b5b-40e4-af30-4ad449df0c64",
   "metadata": {},
   "outputs": [],
   "source": [
    "!wget https://ftp.ebi.ac.uk/pub/databases/chembl/ChEMBLdb/releases/chembl_31/chembl_31_chemreps.txt.gz"
   ]
  },
  {
   "cell_type": "code",
   "execution_count": 3,
   "id": "2f168433-6919-4c2b-9df0-ffeeca50ef58",
   "metadata": {
    "tags": []
   },
   "outputs": [
    {
     "data": {
      "text/plain": [
       "(2304866, 4)"
      ]
     },
     "execution_count": 3,
     "metadata": {},
     "output_type": "execute_result"
    }
   ],
   "source": [
    "chembl = pd.read_csv('chembl_31_chemreps.txt.gz',sep='\\t')\n",
    "chembl = chembl.dropna()\n",
    "chembl.shape"
   ]
  },
  {
   "cell_type": "code",
   "execution_count": 4,
   "id": "17f46d75-7060-427d-9509-afd590758b3c",
   "metadata": {
    "tags": []
   },
   "outputs": [
    {
     "data": {
      "text/plain": [
       "(2304723, 4)"
      ]
     },
     "execution_count": 4,
     "metadata": {},
     "output_type": "execute_result"
    }
   ],
   "source": [
    "# deduplicate\n",
    "chembl = chembl.drop_duplicates(subset='canonical_smiles',keep='first')\n",
    "chembl.shape"
   ]
  },
  {
   "cell_type": "code",
   "execution_count": 5,
   "id": "66aaa734-b1c8-4a5d-9e52-e36b44418234",
   "metadata": {
    "tags": []
   },
   "outputs": [
    {
     "data": {
      "text/plain": [
       "(2194254, 5)"
      ]
     },
     "execution_count": 5,
     "metadata": {},
     "output_type": "execute_result"
    }
   ],
   "source": [
    "# connected molecules\n",
    "chembl = chembl.loc[~chembl['canonical_smiles'].str.contains(r'\\.')]\n",
    "chembl['formula'] = chembl['standard_inchi'].str.split('/').str[1]\n",
    "chembl = chembl.loc[~chembl['formula'].str.contains(r'\\.')]\n",
    "chembl.shape"
   ]
  },
  {
   "cell_type": "code",
   "execution_count": 6,
   "id": "9ff24d12-c82e-44a1-9e4f-7732f115ff36",
   "metadata": {
    "tags": []
   },
   "outputs": [
    {
     "data": {
      "text/plain": [
       "(2183953, 5)"
      ]
     },
     "execution_count": 6,
     "metadata": {},
     "output_type": "execute_result"
    }
   ],
   "source": [
    "# CHNOPSX\n",
    "from pyteomics.mass import Composition\n",
    "\n",
    "atom_types = {'C','H','N','O','P','S','F','Cl','Br','I'}\n",
    "\n",
    "chembl = chembl.loc[chembl['formula'].parallel_apply(lambda x: set(Composition(formula=x))<=atom_types)]\n",
    "chembl.shape"
   ]
  },
  {
   "cell_type": "code",
   "execution_count": 7,
   "id": "788e062d-2c55-4d79-86fe-432c87ab1b8b",
   "metadata": {},
   "outputs": [
    {
     "data": {
      "text/plain": [
       "(2183952, 6)"
      ]
     },
     "execution_count": 7,
     "metadata": {},
     "output_type": "execute_result"
    }
   ],
   "source": [
    "# valid smiles\n",
    "chembl['mol'] = chembl['canonical_smiles'].parallel_apply(lambda s: Chem.MolFromSmiles(s))\n",
    "chembl = chembl.dropna()\n",
    "chembl.shape"
   ]
  },
  {
   "cell_type": "code",
   "execution_count": 8,
   "id": "080b492e-bd8c-4940-9356-c7d638f3e3d8",
   "metadata": {
    "tags": []
   },
   "outputs": [
    {
     "data": {
      "text/plain": [
       "(2141950, 7)"
      ]
     },
     "execution_count": 8,
     "metadata": {},
     "output_type": "execute_result"
    }
   ],
   "source": [
    "# small molecules\n",
    "from rdkit.Chem.Descriptors import ExactMolWt\n",
    "\n",
    "chembl['mw'] = chembl['mol'].apply(ExactMolWt)\n",
    "chembl = chembl.query('mw<=1000')\n",
    "chembl.shape"
   ]
  },
  {
   "cell_type": "code",
   "execution_count": 9,
   "id": "1ff5c4b4-ace9-45a2-a083-b605fcecfd40",
   "metadata": {
    "tags": []
   },
   "outputs": [
    {
     "data": {
      "text/plain": [
       "(2121673, 8)"
      ]
     },
     "execution_count": 9,
     "metadata": {},
     "output_type": "execute_result"
    }
   ],
   "source": [
    "# neutrally charged\n",
    "chembl['charge'] = chembl['mol'].apply(Chem.GetFormalCharge)\n",
    "chembl = chembl.query('charge==0')\n",
    "chembl.shape"
   ]
  },
  {
   "cell_type": "code",
   "execution_count": 10,
   "id": "ef1bb599-8a5a-42a0-9c7c-9d4c486eb57f",
   "metadata": {},
   "outputs": [
    {
     "data": {
      "text/plain": [
       "12457"
      ]
     },
     "execution_count": 10,
     "metadata": {},
     "output_type": "execute_result"
    }
   ],
   "source": [
    "# NIST observed MS1 masses\n",
    "nist_df = pd.read_pickle('../nist-20/hr_msms_nist.pkl')\n",
    "nist_mws = nist_df['ExactMass'].dropna().astype(float).unique()\n",
    "len(nist_mws)"
   ]
  },
  {
   "cell_type": "code",
   "execution_count": null,
   "id": "6e096978-c37b-4fa1-b0eb-3da9db5e618f",
   "metadata": {},
   "outputs": [],
   "source": [
    "# take anything within tolerance of neutral mass\n",
    "\n",
    "from sklearn.neighbors import BallTree\n",
    "from rdkit.Chem.Descriptors import ExactMolWt\n",
    "\n",
    "tree = BallTree(nist_mws[:,None])\n",
    "\n",
    "precursor_tol = 0.1\n",
    "\n",
    "chembl_mws = chembl['mw'].values[:,None]\n",
    "\n",
    "matches = tree.query_radius(chembl_mws, precursor_tol)\n",
    "num_matches = pd.Series(matches).str.len()\n",
    "\n",
    "has_match = np.array([len(x)>0 for x in matches])\n",
    "\n",
    "chembl = chembl.loc[has_match]\n",
    "chembl.shape"
   ]
  },
  {
   "cell_type": "code",
   "execution_count": null,
   "id": "5447079c-b931-446a-b614-db37dcecd2d3",
   "metadata": {},
   "outputs": [],
   "source": [
    "# to reproduce the library used in the paper (which did not fix a random seed)\n",
    "inchikeys = !cat 'chembl_decoys.txt'\n",
    "chembl = chembl.loc[chembl['standard_inchi_key'].isin(set(inchikeys))]\n",
    "chembl.shape"
   ]
  },
  {
   "cell_type": "code",
   "execution_count": null,
   "id": "083e6ea5-c315-4702-a1d7-cb17c2fc06ee",
   "metadata": {},
   "outputs": [],
   "source": [
    "# randomly subsample\n",
    "# chembl = chembl.sample(frac=0.1, random_state=0)\n",
    "# chembl.shape"
   ]
  },
  {
   "cell_type": "code",
   "execution_count": null,
   "id": "0bbb8161-b633-4a04-bdf2-0b719b6e3d55",
   "metadata": {},
   "outputs": [],
   "source": [
    "# fill in polarities and energies\n",
    "dfs = []\n",
    "for nce in [20.,35.,50.]:\n",
    "    for precursor_type in ['[M+H]+','[M-H]-']:\n",
    "        df = chembl.copy()\n",
    "        df['Precursor_type'] = precursor_type\n",
    "        df['NCE'] = nce\n",
    "        dfs.append(df)\n",
    "df = pd.concat(dfs)\n",
    "\n",
    "# modal instrument in NIST-20\n",
    "df['Instrument'] = 'Thermo Finnigan Elite Orbitrap'\n",
    "\n",
    "df['Spectrum'] = df['chembl_id'] + '_' + df['Precursor_type'] + '_' + df['NCE'].astype(int).astype(str)\n",
    "df['SMILES'] = df['canonical_smiles']\n",
    "df['InChIKey'] = df['standard_inchi_key']\n",
    "df['Formula'] = df['formula']\n",
    "df['PrecursorMZ'] = df['mw'] + df['Precursor_type'].map({\n",
    "    '[M+H]+': ExactMolWt(Chem.MolFromSmiles('[H]')),\n",
    "    '[M-H]-': -ExactMolWt(Chem.MolFromSmiles('[H]')),\n",
    "})\n",
    "\n",
    "df.shape"
   ]
  },
  {
   "cell_type": "code",
   "execution_count": null,
   "id": "3388d846-d248-411a-895f-c3c73a0f96c1",
   "metadata": {},
   "outputs": [],
   "source": [
    "# include the ground truth structures\n",
    "df = pd.concat([df,nist_df.query('NCE==20 or NCE==35 or NCE==50')])\n",
    "df.shape"
   ]
  },
  {
   "cell_type": "code",
   "execution_count": null,
   "id": "b9af622a-1c0a-443d-bb2a-cbbf7ca98f5b",
   "metadata": {},
   "outputs": [],
   "source": [
    "from src.io import write_msp\n",
    "\n",
    "tsv_path = 'nist-20_chembl_decoys.tsv'\n",
    "cols = ['Spectrum','SMILES','Precursor_type','NCE','Instrument']\n",
    "df[cols].to_csv(tsv_path, sep='\\t', header=False, index=False)"
   ]
  },
  {
   "cell_type": "code",
   "execution_count": null,
   "id": "d2413415-6792-41c3-a225-a426b54b8b8d",
   "metadata": {},
   "outputs": [],
   "source": [
    "# clean up\n",
    "!rm chembl_31_chemreps.txt.gz"
   ]
  }
 ],
 "metadata": {
  "kernelspec": {
   "display_name": "Python [conda env:root] *",
   "language": "python",
   "name": "conda-root-py"
  },
  "language_info": {
   "codemirror_mode": {
    "name": "ipython",
    "version": 3
   },
   "file_extension": ".py",
   "mimetype": "text/x-python",
   "name": "python",
   "nbconvert_exporter": "python",
   "pygments_lexer": "ipython3",
   "version": "3.8.15"
  }
 },
 "nbformat": 4,
 "nbformat_minor": 5
}
