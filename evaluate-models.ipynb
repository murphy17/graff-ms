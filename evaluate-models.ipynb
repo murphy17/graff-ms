{
 "cells": [
  {
   "cell_type": "markdown",
   "id": "52415fd1-a697-4f27-af0b-c44e334fcba0",
   "metadata": {},
   "source": [
    "# GrAFF-MS Experiments Notebook\n",
    "This notebook calls various scripts that generate numbers for the tables in the paper. \n",
    "\n",
    "This requires `preprocess-nist.py` and the various preprocessing notebooks (`data/casmi-16/casmi-16.ipynb`, `data/chembl/chembl.ipynb`, `data/gnps/gnps.ipynb`, `data/cfm-id/cfm-id.ipynb`) have all been run, and trained GrAFF-MS and NEIMS models have been saved to checkpoints."
   ]
  },
  {
   "cell_type": "markdown",
   "id": "431a10fd-a44b-47de-836d-572f1b1ed812",
   "metadata": {},
   "source": [
    "### Dataset sizes"
   ]
  },
  {
   "cell_type": "code",
   "execution_count": 1,
   "id": "27c4abff-2199-4910-86d5-d303daba3574",
   "metadata": {},
   "outputs": [
    {
     "name": "stdout",
     "output_type": "stream",
     "text": [
      "./data/nist-20/hr_msms_nist_train.tsv: 287995 spectra, 18665 structures\n",
      "./data/nist-20/hr_msms_nist_val.tsv: 36265 spectra, 2346 structures\n",
      "./data/nist-20/hr_msms_nist_test.tsv: 4424 spectra, 1632 structures\n",
      "./data/casmi-16/casmi-16.tsv: 166 spectra, 151 structures\n",
      "./data/gnps/gnps.tsv: 707 spectra, 636 structures\n",
      "./data/chembl/nist-20_chembl_decoys.tsv: 1262025 spectra, 221502 structures\n"
     ]
    }
   ],
   "source": [
    "%%bash\n",
    "\n",
    "fs=(\n",
    "    \"./data/nist-20/hr_msms_nist_train.tsv\"\n",
    "    \"./data/nist-20/hr_msms_nist_val.tsv\"\n",
    "    \"./data/nist-20/hr_msms_nist_test.tsv\"\n",
    "    \"./data/casmi-16/casmi-16.tsv\"\n",
    "    \"./data/gnps/gnps.tsv\"\n",
    "    \"./data/chembl/nist-20_chembl_decoys.tsv\"\n",
    ")\n",
    "\n",
    "for f in ${fs[@]}; do\n",
    "    num_structures=$(cut -f2 ${f} | sort | uniq | wc -l)\n",
    "    num_spectra=$(wc -l ${f} | cut -f1 -d' ')\n",
    "    echo ${f}:' '${num_spectra}' spectra, '${num_structures}' structures'\n",
    "done"
   ]
  },
  {
   "cell_type": "markdown",
   "id": "8ad76491-3847-4668-b412-ac87f5416f12",
   "metadata": {},
   "source": [
    "### Model checkpoints\n",
    "This set somes variables in a way that persists across Jupyter cells."
   ]
  },
  {
   "cell_type": "code",
   "execution_count": 2,
   "id": "44203266-75f3-4de5-a083-93506c0eb765",
   "metadata": {},
   "outputs": [
    {
     "name": "stdout",
     "output_type": "stream",
     "text": [
      "./lightning_logs/graff-ms/version_0/checkpoints/epoch=96-step=27257.ckpt\n",
      "./lightning_logs/neims/version_0/checkpoints/epoch=35-step=103643.ckpt\n"
     ]
    }
   ],
   "source": [
    "%%bash\n",
    "\n",
    "GRAFF_PATH=$(ls -t ./lightning_logs/graff-ms/*/checkpoints/*.ckpt | head -n1)\n",
    "NEIMS_PATH=$(ls -t ./lightning_logs/neims/*/checkpoints/*.ckpt | head -n1)\n",
    "\n",
    "echo $GRAFF_PATH > /tmp/graff_path\n",
    "echo $NEIMS_PATH > /tmp/neims_path\n",
    "\n",
    "echo $GRAFF_PATH\n",
    "echo $NEIMS_PATH"
   ]
  },
  {
   "cell_type": "markdown",
   "id": "08feae51-b97d-47d0-adc9-a3c08e0869aa",
   "metadata": {},
   "source": [
    "# NIST-20 spectrum prediction"
   ]
  },
  {
   "cell_type": "markdown",
   "id": "9790c9c0-0366-418a-8959-f23bda7baa70",
   "metadata": {},
   "source": [
    "### GrAFF-MS"
   ]
  },
  {
   "cell_type": "code",
   "execution_count": 3,
   "id": "9a7e2ef8-b9b6-4f52-9bfa-4b2831dfa6ab",
   "metadata": {
    "tags": []
   },
   "outputs": [
    {
     "name": "stderr",
     "output_type": "stream",
     "text": [
      "Global seed set to 0\n"
     ]
    },
    {
     "name": "stdout",
     "output_type": "stream",
     "text": [
      "Reading queries... done\n",
      "Generating metadata... done\n",
      "Loading model ./lightning_logs/graff-ms/version_0/checkpoints/epoch=96-step=27257.ckpt... done\n",
      "Precomputing graphs... \n",
      "done\n"
     ]
    },
    {
     "name": "stderr",
     "output_type": "stream",
     "text": [
      "Multiprocessing is handled by SLURM.\n",
      "GPU available: True (cuda), used: True\n",
      "TPU available: False, using: 0 TPU cores\n",
      "IPU available: False, using: 0 IPUs\n",
      "HPU available: False, using: 0 HPUs\n",
      "LOCAL_RANK: 0 - CUDA_VISIBLE_DEVICES: [GPU-b1be1dc7-be01-efdc-bbda-e03573d61cc4]\n",
      "2023-07-24 23:56:17.744059: I tensorflow/core/util/util.cc:169] oneDNN custom operations are on. You may see slightly different numerical results due to floating-point round-off errors from different computation orders. To turn them off, set the environment variable `TF_ENABLE_ONEDNN_OPTS=0`.\n"
     ]
    },
    {
     "name": "stdout",
     "output_type": "stream",
     "text": [
      "Predicting DataLoader 0: 100%|##########| 9/9 [00:02<00:00,  3.00it/s]\n",
      "done\n",
      "Time elapsed: 11.969301462173462 seconds\n",
      "Exporting to MSP... done\n"
     ]
    }
   ],
   "source": [
    "%%bash\n",
    "\n",
    "python run-graff-ms.py \\\n",
    "    $(cat /tmp/graff_path) \\\n",
    "    ./data/nist-20/hr_msms_nist_test.tsv \\\n",
    "    ./data/graff-ms/nist-20/hr_msms_nist_test_graff-ms.msp"
   ]
  },
  {
   "cell_type": "code",
   "execution_count": 4,
   "id": "4d65c262-cb9a-480f-b509-27a15a5b727c",
   "metadata": {
    "tags": []
   },
   "outputs": [
    {
     "name": "stdout",
     "output_type": "stream",
     "text": [
      "Loading predicted spectra... done\n",
      "Loading ground truth spectra... done\n",
      "Calculating cosine similarity... done\n",
      "Mean cosine similarity = 0.71 +- 0.01 (N=4424)\n"
     ]
    }
   ],
   "source": [
    "%%bash\n",
    "\n",
    "python cosine-similarity.py \\\n",
    "    ./data/graff-ms/nist-20/hr_msms_nist_test_graff-ms.msp \\\n",
    "    ./data/nist-20/hr_msms_nist_test.msp"
   ]
  },
  {
   "cell_type": "markdown",
   "id": "333d65ba-5391-40dd-af77-a1295c891465",
   "metadata": {},
   "source": [
    "### NEIMS"
   ]
  },
  {
   "cell_type": "code",
   "execution_count": 5,
   "id": "02608304-772b-4ddf-8993-f38e7a8a38d6",
   "metadata": {
    "tags": []
   },
   "outputs": [
    {
     "name": "stderr",
     "output_type": "stream",
     "text": [
      "Global seed set to 0\n"
     ]
    },
    {
     "name": "stdout",
     "output_type": "stream",
     "text": [
      "Reading queries... done\n",
      "Generating metadata... done\n",
      "Loading model ./lightning_logs/neims/version_0/checkpoints/epoch=35-step=103643.ckpt... done\n"
     ]
    },
    {
     "name": "stderr",
     "output_type": "stream",
     "text": [
      "Multiprocessing is handled by SLURM.\n",
      "GPU available: True (cuda), used: True\n",
      "TPU available: False, using: 0 TPU cores\n",
      "IPU available: False, using: 0 IPUs\n",
      "HPU available: False, using: 0 HPUs\n",
      "LOCAL_RANK: 0 - CUDA_VISIBLE_DEVICES: [GPU-b1be1dc7-be01-efdc-bbda-e03573d61cc4]\n",
      "2023-07-24 23:56:39.714727: I tensorflow/core/util/util.cc:169] oneDNN custom operations are on. You may see slightly different numerical results due to floating-point round-off errors from different computation orders. To turn them off, set the environment variable `TF_ENABLE_ONEDNN_OPTS=0`.\n"
     ]
    },
    {
     "name": "stdout",
     "output_type": "stream",
     "text": [
      "Predicting DataLoader 0: 100%|##########| 9/9 [00:01<00:00,  5.39it/s]\n",
      "done\n",
      "Time elapsed: 8.36935567855835 seconds\n",
      "Exporting to MSP... done\n"
     ]
    }
   ],
   "source": [
    "%%bash\n",
    "\n",
    "python run-neims.py \\\n",
    "    $(cat /tmp/neims_path) \\\n",
    "    ./data/nist-20/hr_msms_nist_test.tsv \\\n",
    "    ./data/neims/nist-20/hr_msms_nist_test_neims.msp"
   ]
  },
  {
   "cell_type": "code",
   "execution_count": 6,
   "id": "31bb07f5-1aeb-4f98-b91c-d00540f9a3bd",
   "metadata": {
    "tags": []
   },
   "outputs": [
    {
     "name": "stdout",
     "output_type": "stream",
     "text": [
      "Loading predicted spectra... done\n",
      "Loading ground truth spectra... done\n",
      "Calculating cosine similarity... done\n",
      "Mean cosine similarity = 0.60 +- 0.01 (N=4424)\n"
     ]
    }
   ],
   "source": [
    "%%bash\n",
    "\n",
    "python cosine-similarity.py \\\n",
    "    ./data/neims/nist-20/hr_msms_nist_test_neims.msp \\\n",
    "    ./data/nist-20/hr_msms_nist_test.msp"
   ]
  },
  {
   "cell_type": "markdown",
   "id": "712183d5-1c4a-436b-a14c-fa671d26f803",
   "metadata": {},
   "source": [
    "### CFM-ID"
   ]
  },
  {
   "cell_type": "code",
   "execution_count": 7,
   "id": "d1c4a7aa-c2fd-4657-b787-9846ea63397d",
   "metadata": {},
   "outputs": [
    {
     "name": "stdout",
     "output_type": "stream",
     "text": [
      "Loading predicted spectra... done\n",
      "Loading ground truth spectra... done\n",
      "Calculating cosine similarity... done\n",
      "Mean cosine similarity = 0.53 +- 0.01 (N=4404)\n"
     ]
    }
   ],
   "source": [
    "%%bash \n",
    "\n",
    "python cosine-similarity.py \\\n",
    "    ./data/cfm-id/nist-20/hr_msms_nist_test_cfm-id.msp \\\n",
    "    ./data/nist-20/hr_msms_nist_test.msp"
   ]
  },
  {
   "cell_type": "markdown",
   "id": "f18a9c65-2956-4ed8-93a5-576b052d4c8e",
   "metadata": {},
   "source": [
    "# CASMI-16 spectrum prediction"
   ]
  },
  {
   "cell_type": "markdown",
   "id": "b5aa4143-9502-4db0-b4f8-0f4abdbfa2a0",
   "metadata": {},
   "source": [
    "### GrAFF-MS"
   ]
  },
  {
   "cell_type": "code",
   "execution_count": 8,
   "id": "64196fb4-5b42-4d25-af2d-0f946b119f09",
   "metadata": {
    "tags": []
   },
   "outputs": [
    {
     "name": "stderr",
     "output_type": "stream",
     "text": [
      "Global seed set to 0\n"
     ]
    },
    {
     "name": "stdout",
     "output_type": "stream",
     "text": [
      "Reading queries... done\n",
      "Generating metadata... done\n",
      "Loading model ./lightning_logs/graff-ms/version_0/checkpoints/epoch=96-step=27257.ckpt... done\n",
      "Precomputing graphs... \n",
      "done\n"
     ]
    },
    {
     "name": "stderr",
     "output_type": "stream",
     "text": [
      "Multiprocessing is handled by SLURM.\n",
      "GPU available: True (cuda), used: True\n",
      "TPU available: False, using: 0 TPU cores\n",
      "IPU available: False, using: 0 IPUs\n",
      "HPU available: False, using: 0 HPUs\n",
      "LOCAL_RANK: 0 - CUDA_VISIBLE_DEVICES: [GPU-b1be1dc7-be01-efdc-bbda-e03573d61cc4]\n",
      "2023-07-24 23:57:08.970006: I tensorflow/core/util/util.cc:169] oneDNN custom operations are on. You may see slightly different numerical results due to floating-point round-off errors from different computation orders. To turn them off, set the environment variable `TF_ENABLE_ONEDNN_OPTS=0`.\n"
     ]
    },
    {
     "name": "stdout",
     "output_type": "stream",
     "text": [
      "Predicting DataLoader 0: 100%|##########| 1/1 [00:00<00:00,  1.84it/s]\n",
      "done\n",
      "Time elapsed: 6.547536373138428 seconds\n",
      "Exporting to MSP... done\n"
     ]
    }
   ],
   "source": [
    "%%bash\n",
    "\n",
    "python run-graff-ms.py \\\n",
    "    $(cat /tmp/graff_path) \\\n",
    "    ./data/casmi-16/casmi-16.tsv \\\n",
    "    ./data/graff-ms/casmi-16/casmi-16_graff-ms.msp"
   ]
  },
  {
   "cell_type": "code",
   "execution_count": 9,
   "id": "bf92e984-f7b0-45bb-bb75-e530052886d0",
   "metadata": {
    "tags": []
   },
   "outputs": [
    {
     "name": "stdout",
     "output_type": "stream",
     "text": [
      "Loading predicted spectra... done\n",
      "Loading ground truth spectra... done\n",
      "Calculating cosine similarity... done\n",
      "Mean cosine similarity = 0.78 +- 0.05 (N=166)\n"
     ]
    }
   ],
   "source": [
    "%%bash \n",
    "\n",
    "python cosine-similarity.py \\\n",
    "    ./data/graff-ms/casmi-16/casmi-16_graff-ms.msp \\\n",
    "    ./data/casmi-16/casmi-16.msp"
   ]
  },
  {
   "cell_type": "markdown",
   "id": "a31731e6-9f6b-43d2-b6c1-846430a1d2d9",
   "metadata": {
    "tags": []
   },
   "source": [
    "### NEIMS"
   ]
  },
  {
   "cell_type": "code",
   "execution_count": 10,
   "id": "f95ce491-a45d-4181-9be5-cc2e3ff17e03",
   "metadata": {},
   "outputs": [
    {
     "name": "stderr",
     "output_type": "stream",
     "text": [
      "Global seed set to 0\n"
     ]
    },
    {
     "name": "stdout",
     "output_type": "stream",
     "text": [
      "Reading queries... done\n",
      "Generating metadata... done\n",
      "Loading model ./lightning_logs/neims/version_0/checkpoints/epoch=35-step=103643.ckpt... done\n"
     ]
    },
    {
     "name": "stderr",
     "output_type": "stream",
     "text": [
      "Multiprocessing is handled by SLURM.\n",
      "GPU available: True (cuda), used: True\n",
      "TPU available: False, using: 0 TPU cores\n",
      "IPU available: False, using: 0 IPUs\n",
      "HPU available: False, using: 0 HPUs\n",
      "LOCAL_RANK: 0 - CUDA_VISIBLE_DEVICES: [GPU-b1be1dc7-be01-efdc-bbda-e03573d61cc4]\n",
      "2023-07-24 23:57:26.130909: I tensorflow/core/util/util.cc:169] oneDNN custom operations are on. You may see slightly different numerical results due to floating-point round-off errors from different computation orders. To turn them off, set the environment variable `TF_ENABLE_ONEDNN_OPTS=0`.\n"
     ]
    },
    {
     "name": "stdout",
     "output_type": "stream",
     "text": [
      "Predicting DataLoader 0: 100%|##########| 1/1 [00:00<00:00,  2.03it/s]\n",
      "done\n",
      "Time elapsed: 6.752837181091309 seconds\n",
      "Exporting to MSP... done\n"
     ]
    }
   ],
   "source": [
    "%%bash\n",
    "\n",
    "python run-neims.py \\\n",
    "    $(cat /tmp/neims_path) \\\n",
    "    ./data/casmi-16/casmi-16.tsv \\\n",
    "    ./data/neims/casmi-16/casmi-16_neims.msp"
   ]
  },
  {
   "cell_type": "code",
   "execution_count": 11,
   "id": "e7a75d80-f308-4c4e-8ed8-4b3945ceb56a",
   "metadata": {},
   "outputs": [
    {
     "name": "stdout",
     "output_type": "stream",
     "text": [
      "Loading predicted spectra... done\n",
      "Loading ground truth spectra... done\n",
      "Calculating cosine similarity... done\n",
      "Mean cosine similarity = 0.57 +- 0.06 (N=166)\n"
     ]
    }
   ],
   "source": [
    "%%bash \n",
    "\n",
    "python cosine-similarity.py \\\n",
    "    ./data/neims/casmi-16/casmi-16_neims.msp \\\n",
    "    ./data/casmi-16/casmi-16.msp"
   ]
  },
  {
   "cell_type": "markdown",
   "id": "a49a6748-3aef-4014-b771-019d8065574a",
   "metadata": {},
   "source": [
    "### CFM-ID"
   ]
  },
  {
   "cell_type": "code",
   "execution_count": 12,
   "id": "b9af622a-1c0a-443d-bb2a-cbbf7ca98f5b",
   "metadata": {},
   "outputs": [
    {
     "name": "stdout",
     "output_type": "stream",
     "text": [
      "Loading predicted spectra... done\n",
      "Loading ground truth spectra... done\n",
      "Calculating cosine similarity... done\n",
      "Mean cosine similarity = 0.71 +- 0.04 (N=166)\n"
     ]
    }
   ],
   "source": [
    "%%bash\n",
    "\n",
    "python cosine-similarity.py \\\n",
    "    ./data/cfm-id/casmi-16/casmi-16_cfm-id.msp \\\n",
    "    ./data/casmi-16/casmi-16.msp"
   ]
  },
  {
   "cell_type": "markdown",
   "id": "e3cc0470-233a-405e-a18d-8a9870cf6a36",
   "metadata": {},
   "source": [
    "# GNPS spectrum prediction"
   ]
  },
  {
   "cell_type": "markdown",
   "id": "4798856d-6b35-4d42-a680-24a18204a8b1",
   "metadata": {},
   "source": [
    "### GrAFF-MS"
   ]
  },
  {
   "cell_type": "code",
   "execution_count": 13,
   "id": "4006cec4-a6b5-47b0-845d-429267d2f838",
   "metadata": {},
   "outputs": [
    {
     "name": "stderr",
     "output_type": "stream",
     "text": [
      "Global seed set to 0\n"
     ]
    },
    {
     "name": "stdout",
     "output_type": "stream",
     "text": [
      "Reading queries... done\n",
      "Generating metadata... done\n",
      "Loading model ./lightning_logs/graff-ms/version_0/checkpoints/epoch=96-step=27257.ckpt... done\n",
      "Precomputing graphs... \n",
      "done\n"
     ]
    },
    {
     "name": "stderr",
     "output_type": "stream",
     "text": [
      "Multiprocessing is handled by SLURM.\n",
      "GPU available: True (cuda), used: True\n",
      "TPU available: False, using: 0 TPU cores\n",
      "IPU available: False, using: 0 IPUs\n",
      "HPU available: False, using: 0 HPUs\n",
      "LOCAL_RANK: 0 - CUDA_VISIBLE_DEVICES: [GPU-b1be1dc7-be01-efdc-bbda-e03573d61cc4]\n",
      "2023-07-24 23:57:47.608539: I tensorflow/core/util/util.cc:169] oneDNN custom operations are on. You may see slightly different numerical results due to floating-point round-off errors from different computation orders. To turn them off, set the environment variable `TF_ENABLE_ONEDNN_OPTS=0`.\n"
     ]
    },
    {
     "name": "stdout",
     "output_type": "stream",
     "text": [
      "Predicting DataLoader 0: 100%|##########| 2/2 [00:00<00:00,  2.12it/s]\n",
      "done\n",
      "Time elapsed: 9.203755378723145 seconds\n",
      "Exporting to MSP... done\n"
     ]
    }
   ],
   "source": [
    "%%bash \n",
    "\n",
    "python run-graff-ms.py \\\n",
    "    $(cat /tmp/graff_path) \\\n",
    "    ./data/gnps/gnps.tsv \\\n",
    "    ./data/graff-ms/gnps/gnps_graff-ms.msp"
   ]
  },
  {
   "cell_type": "code",
   "execution_count": 14,
   "id": "e5ed433e-1ad7-4708-98d2-e204ecf7b60c",
   "metadata": {},
   "outputs": [
    {
     "name": "stdout",
     "output_type": "stream",
     "text": [
      "Loading predicted spectra... done\n",
      "Loading ground truth spectra... done\n",
      "Calculating cosine similarity... done\n",
      "Mean cosine similarity = 0.40 +- 0.03 (N=707)\n"
     ]
    }
   ],
   "source": [
    "%%bash \n",
    "\n",
    "python cosine-similarity.py \\\n",
    "    ./data/graff-ms/gnps/gnps_graff-ms.msp \\\n",
    "    ./data/gnps/gnps.msp"
   ]
  },
  {
   "cell_type": "markdown",
   "id": "babf1fa1-18a4-4917-9df2-7a18037b4eab",
   "metadata": {
    "tags": []
   },
   "source": [
    "### NEIMS"
   ]
  },
  {
   "cell_type": "code",
   "execution_count": 15,
   "id": "27aae880-44f0-4923-a5b5-1513c8baefa9",
   "metadata": {},
   "outputs": [
    {
     "name": "stderr",
     "output_type": "stream",
     "text": [
      "Global seed set to 0\n"
     ]
    },
    {
     "name": "stdout",
     "output_type": "stream",
     "text": [
      "Reading queries... done\n",
      "Generating metadata... done\n",
      "Loading model ./lightning_logs/neims/version_0/checkpoints/epoch=35-step=103643.ckpt... done\n"
     ]
    },
    {
     "name": "stderr",
     "output_type": "stream",
     "text": [
      "Multiprocessing is handled by SLURM.\n",
      "GPU available: True (cuda), used: True\n",
      "TPU available: False, using: 0 TPU cores\n",
      "IPU available: False, using: 0 IPUs\n",
      "HPU available: False, using: 0 HPUs\n",
      "LOCAL_RANK: 0 - CUDA_VISIBLE_DEVICES: [GPU-b1be1dc7-be01-efdc-bbda-e03573d61cc4]\n",
      "2023-07-24 23:58:06.094609: I tensorflow/core/util/util.cc:169] oneDNN custom operations are on. You may see slightly different numerical results due to floating-point round-off errors from different computation orders. To turn them off, set the environment variable `TF_ENABLE_ONEDNN_OPTS=0`.\n"
     ]
    },
    {
     "name": "stdout",
     "output_type": "stream",
     "text": [
      "Predicting DataLoader 0: 100%|##########| 2/2 [00:00<00:00,  3.23it/s]\n",
      "done\n",
      "Time elapsed: 6.933441162109375 seconds\n",
      "Exporting to MSP... done\n"
     ]
    }
   ],
   "source": [
    "%%bash \n",
    "\n",
    "python run-neims.py \\\n",
    "    $(cat /tmp/neims_path) \\\n",
    "    ./data/gnps/gnps.tsv \\\n",
    "    ./data/neims/gnps/gnps_neims.msp"
   ]
  },
  {
   "cell_type": "code",
   "execution_count": 16,
   "id": "56e9932a-4b91-435d-8111-4bf7f5a4ce1f",
   "metadata": {},
   "outputs": [
    {
     "name": "stdout",
     "output_type": "stream",
     "text": [
      "Loading predicted spectra... done\n",
      "Loading ground truth spectra... done\n",
      "Calculating cosine similarity... done\n",
      "Mean cosine similarity = 0.28 +- 0.02 (N=707)\n"
     ]
    }
   ],
   "source": [
    "%%bash \n",
    "\n",
    "python cosine-similarity.py \\\n",
    "    ./data/neims/gnps/gnps_neims.msp \\\n",
    "    ./data/gnps/gnps.msp"
   ]
  },
  {
   "cell_type": "markdown",
   "id": "00b713cd-63d4-4401-9d75-750a6c02f3f3",
   "metadata": {},
   "source": [
    "### CFM-ID"
   ]
  },
  {
   "cell_type": "code",
   "execution_count": 17,
   "id": "b714e548-579f-4ff1-a5d4-f38eee3f4349",
   "metadata": {},
   "outputs": [
    {
     "name": "stdout",
     "output_type": "stream",
     "text": [
      "Loading predicted spectra... done\n",
      "Loading ground truth spectra... done\n",
      "Calculating cosine similarity... done\n",
      "Mean cosine similarity = 0.37 +- 0.02 (N=676)\n"
     ]
    }
   ],
   "source": [
    "%%bash\n",
    "\n",
    "python cosine-similarity.py \\\n",
    "    ./data/cfm-id/gnps/gnps_cfm-id.msp \\\n",
    "    ./data/gnps/gnps.msp"
   ]
  },
  {
   "cell_type": "markdown",
   "id": "5de01917-47a1-4fbf-b415-2b5598d8ecdf",
   "metadata": {},
   "source": [
    "# NIST-20/ChEMBL library search"
   ]
  },
  {
   "cell_type": "markdown",
   "id": "b2e3bd75-fbd0-4848-a11b-b0179c608013",
   "metadata": {},
   "source": [
    "### GrAFF-MS"
   ]
  },
  {
   "cell_type": "code",
   "execution_count": null,
   "id": "f31c2662-3907-4864-98ed-8b16cdefe7e0",
   "metadata": {
    "tags": []
   },
   "outputs": [
    {
     "name": "stderr",
     "output_type": "stream",
     "text": [
      "Global seed set to 0\n"
     ]
    },
    {
     "name": "stdout",
     "output_type": "stream",
     "text": [
      "Reading queries... done\n",
      "Generating metadata... done\n",
      "Loading model ./lightning_logs/graff-ms/version_0/checkpoints/epoch=96-step=27257.ckpt... done\n",
      "Precomputing graphs... \n",
      "done\n"
     ]
    },
    {
     "name": "stderr",
     "output_type": "stream",
     "text": [
      "Multiprocessing is handled by SLURM.\n",
      "GPU available: True (cuda), used: True\n",
      "TPU available: False, using: 0 TPU cores\n",
      "IPU available: False, using: 0 IPUs\n",
      "HPU available: False, using: 0 HPUs\n",
      "LOCAL_RANK: 0 - CUDA_VISIBLE_DEVICES: [GPU-b1be1dc7-be01-efdc-bbda-e03573d61cc4]\n",
      "2023-07-25 00:04:58.826041: I tensorflow/core/util/util.cc:169] oneDNN custom operations are on. You may see slightly different numerical results due to floating-point round-off errors from different computation orders. To turn them off, set the environment variable `TF_ENABLE_ONEDNN_OPTS=0`.\n"
     ]
    }
   ],
   "source": [
    "%%bash\n",
    "\n",
    "python run-graff-ms.py \\\n",
    "    $(cat /tmp/graff_path) \\\n",
    "    ./data/chembl/nist-20_chembl_decoys.tsv \\\n",
    "    ./data/graff-ms/chembl/nist-20_chembl_decoys_graff-ms.msp \\\n",
    "    --min_probability 0.001"
   ]
  },
  {
   "cell_type": "code",
   "execution_count": 22,
   "id": "0eec2abf-c855-4afa-a8dc-a51449995ab4",
   "metadata": {
    "tags": []
   },
   "outputs": [
    {
     "name": "stdout",
     "output_type": "stream",
     "text": [
      "Loading queries... done\n",
      "Loading library... done\n",
      "Querying 4424 against 1262025 spectra\n",
      "Prefiltering matches... done\n",
      "Calculating cosine similarity... done\n",
      "Deduplicating library matches... done\n",
      "Calculating recall... done\n",
      "Structure recall @ 1 = 0.37 +- 0.01\n",
      "Structure recall @ 5 = 0.67 +- 0.01\n",
      "Structure recall @ 10 = 0.75 +- 0.01\n",
      "Formula recall @ 1 = 0.52 +- 0.02\n",
      "Formula recall @ 5 = 0.76 +- 0.01\n",
      "Formula recall @ 10 = 0.83 +- 0.01\n"
     ]
    }
   ],
   "source": [
    "%%bash \n",
    "\n",
    "python sls-recall.py \\\n",
    "    ./data/nist-20/hr_msms_nist_test.msp \\\n",
    "    ./data/graff-ms/chembl/nist-20_chembl_decoys_graff-ms.msp"
   ]
  },
  {
   "cell_type": "markdown",
   "id": "77e33618-fb2f-4b33-9359-8116975a7a0a",
   "metadata": {},
   "source": [
    "### NEIMS"
   ]
  },
  {
   "cell_type": "code",
   "execution_count": null,
   "id": "8bb05811-df0c-4973-af60-2698222d5636",
   "metadata": {
    "tags": []
   },
   "outputs": [],
   "source": [
    "%%bash\n",
    "\n",
    "python run-neims.py \\\n",
    "    $(cat /tmp/neims_path) \\\n",
    "    ./data/chembl/nist-20_chembl_decoys.tsv \\\n",
    "    ./data/neims/chembl/nist-20_chembl_decoys_neims.msp \\\n",
    "    --min_probability 0.001"
   ]
  },
  {
   "cell_type": "code",
   "execution_count": 24,
   "id": "3c1ed55d-75b7-4ac7-90f2-472d6addbed4",
   "metadata": {
    "tags": []
   },
   "outputs": [
    {
     "name": "stdout",
     "output_type": "stream",
     "text": [
      "Loading queries... done\n",
      "Loading library... done\n",
      "Querying 4424 against 1262025 spectra\n",
      "Prefiltering matches... done\n",
      "Calculating cosine similarity... done\n",
      "Deduplicating library matches... done\n",
      "Calculating recall... done\n",
      "Structure recall @ 1 = 0.27 +- 0.01\n",
      "Structure recall @ 5 = 0.53 +- 0.02\n",
      "Structure recall @ 10 = 0.61 +- 0.01\n",
      "Formula recall @ 1 = 0.43 +- 0.01\n",
      "Formula recall @ 5 = 0.65 +- 0.01\n",
      "Formula recall @ 10 = 0.73 +- 0.01\n"
     ]
    }
   ],
   "source": [
    "%%bash \n",
    "\n",
    "python sls-recall.py \\\n",
    "    ./data/nist-20/hr_msms_nist_test.msp \\\n",
    "    ./data/neims/chembl/nist-20_chembl_decoys_neims.msp"
   ]
  },
  {
   "cell_type": "markdown",
   "id": "45ac01ca-7c2c-46bf-90d6-20b2e3627158",
   "metadata": {},
   "source": [
    "### CFM-ID"
   ]
  },
  {
   "cell_type": "code",
   "execution_count": 1,
   "id": "facfb93b-b833-4f08-913a-2feda30cb3f6",
   "metadata": {
    "tags": []
   },
   "outputs": [
    {
     "name": "stdout",
     "output_type": "stream",
     "text": [
      "Loading queries... done\n",
      "Loading library... done\n",
      "Querying 4424 against 1204371 spectra\n",
      "Prefiltering matches... done\n",
      "Calculating cosine similarity... done\n",
      "Deduplicating library matches... done\n",
      "Calculating recall... done\n",
      "Structure recall @ 1 = 0.29 +- 0.01\n",
      "Structure recall @ 5 = 0.56 +- 0.02\n",
      "Structure recall @ 10 = 0.66 +- 0.01\n",
      "Formula recall @ 1 = 0.34 +- 0.01\n",
      "Formula recall @ 5 = 0.64 +- 0.01\n",
      "Formula recall @ 10 = 0.75 +- 0.01\n"
     ]
    }
   ],
   "source": [
    "%%bash\n",
    "\n",
    "python sls-recall.py \\\n",
    "    ./data/nist-20/hr_msms_nist_test.msp \\\n",
    "    ./data/cfm-id/chembl/nist-20_chembl_decoys_cfm-id.msp"
   ]
  },
  {
   "cell_type": "code",
   "execution_count": null,
   "id": "20c9a6de-4d39-4c78-b735-d9efd31874d2",
   "metadata": {},
   "outputs": [],
   "source": []
  }
 ],
 "metadata": {
  "kernelspec": {
   "display_name": "Python [conda env:root] *",
   "language": "python",
   "name": "conda-root-py"
  },
  "language_info": {
   "codemirror_mode": {
    "name": "ipython",
    "version": 3
   },
   "file_extension": ".py",
   "mimetype": "text/x-python",
   "name": "python",
   "nbconvert_exporter": "python",
   "pygments_lexer": "ipython3",
   "version": "3.8.15"
  }
 },
 "nbformat": 4,
 "nbformat_minor": 5
}
